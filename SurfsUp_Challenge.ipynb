{
 "cells": [
  {
   "cell_type": "code",
   "execution_count": 110,
   "metadata": {},
   "outputs": [],
   "source": [
    "# Dependencies\n",
    "import numpy as np\n",
    "\n",
    "# Python SQL toolkit and Object Relational Mapper\n",
    "import sqlalchemy\n",
    "from sqlalchemy import inspect\n",
    "from sqlalchemy.ext.automap import automap_base\n",
    "from sqlalchemy.orm import Session\n",
    "from sqlalchemy import create_engine, func\n",
    "import datetime as dt\n",
    "import pandas as pd"
   ]
  },
  {
   "cell_type": "code",
   "execution_count": 111,
   "metadata": {},
   "outputs": [],
   "source": [
    "engine = create_engine(\"sqlite:///hawaii.sqlite\")\n",
    "\n",
    "# reflect an existing database into a new model\n",
    "Base = automap_base()\n",
    "# reflect the tables\n",
    "Base.prepare(engine, reflect=True)\n",
    "\n",
    "# Save references to each table\n",
    "Measurement = Base.classes.measurement\n",
    "Station = Base.classes.station"
   ]
  },
  {
   "cell_type": "code",
   "execution_count": 112,
   "metadata": {},
   "outputs": [],
   "source": [
    "# Create our session (link) from Python to the DB\n",
    "session = Session(engine)"
   ]
  },
  {
   "cell_type": "markdown",
   "metadata": {},
   "source": [
    "## D1: Determine the Summary Statistics for June"
   ]
  },
  {
   "cell_type": "code",
   "execution_count": 113,
   "metadata": {},
   "outputs": [],
   "source": [
    "# 1. Import the sqlalchemy extract function.\n",
    "from sqlalchemy import extract\n",
    "\n",
    "# 2. Write a query that filters the Measurement table to retrieve the temperatures for the month of June. \n",
    "#prev_june = dt.date(2017, 7, 1) -  dt.timedelta(days=30)\n",
    "prev_june =session.query(Measurement.date).filter(extract('month', Measurement.date)==6).all()"
   ]
  },
  {
   "cell_type": "code",
   "execution_count": 114,
   "metadata": {},
   "outputs": [],
   "source": [
    "#inspector = inspect(engine)\n",
    "#inspector.get_table_names()"
   ]
  },
  {
   "cell_type": "code",
   "execution_count": 115,
   "metadata": {},
   "outputs": [],
   "source": [
    "#columns = inspector.get_columns(measurement)\n",
    "#for columns in columns:\n",
    "#    print(column)"
   ]
  },
  {
   "cell_type": "code",
   "execution_count": 116,
   "metadata": {},
   "outputs": [
    {
     "data": {
      "text/plain": [
       "sqlalchemy.orm.decl_api.DeclarativeMeta"
      ]
     },
     "execution_count": 116,
     "metadata": {},
     "output_type": "execute_result"
    }
   ],
   "source": [
    "type(Measurement)"
   ]
  },
  {
   "cell_type": "code",
   "execution_count": 117,
   "metadata": {},
   "outputs": [],
   "source": [
    "#  3. Convert the June temperatures to a list.\n",
    "june_temp_results = []\n",
    "june_temp_results = session.query(Measurement.date, Measurement.tobs).filter(extract('year', Measurement.date)==2016).filter(extract('month', Measurement.date)==6).all()\n",
    "\n",
    "                                                                             "
   ]
  },
  {
   "cell_type": "code",
   "execution_count": 118,
   "metadata": {},
   "outputs": [
    {
     "data": {
      "text/plain": [
       "list"
      ]
     },
     "execution_count": 118,
     "metadata": {},
     "output_type": "execute_result"
    }
   ],
   "source": [
    "type(june_temp_results)"
   ]
  },
  {
   "cell_type": "code",
   "execution_count": 119,
   "metadata": {},
   "outputs": [
    {
     "data": {
      "text/plain": [
       "[('2016-06-01', 76.0),\n",
       " ('2016-06-02', 71.0),\n",
       " ('2016-06-03', 71.0),\n",
       " ('2016-06-04', 74.0),\n",
       " ('2016-06-05', 76.0),\n",
       " ('2016-06-06', 78.0),\n",
       " ('2016-06-07', 77.0),\n",
       " ('2016-06-08', 77.0),\n",
       " ('2016-06-09', 73.0),\n",
       " ('2016-06-10', 77.0),\n",
       " ('2016-06-11', 78.0),\n",
       " ('2016-06-12', 78.0),\n",
       " ('2016-06-13', 80.0),\n",
       " ('2016-06-14', 79.0),\n",
       " ('2016-06-15', 78.0),\n",
       " ('2016-06-16', 77.0),\n",
       " ('2016-06-17', 76.0),\n",
       " ('2016-06-18', 77.0),\n",
       " ('2016-06-19', 77.0),\n",
       " ('2016-06-20', 78.0),\n",
       " ('2016-06-21', 80.0),\n",
       " ('2016-06-22', 79.0),\n",
       " ('2016-06-23', 79.0),\n",
       " ('2016-06-24', 77.0),\n",
       " ('2016-06-25', 78.0),\n",
       " ('2016-06-26', 79.0),\n",
       " ('2016-06-27', 80.0),\n",
       " ('2016-06-28', 76.0),\n",
       " ('2016-06-29', 79.0),\n",
       " ('2016-06-30', 80.0),\n",
       " ('2016-06-01', 70.0),\n",
       " ('2016-06-02', 69.0),\n",
       " ('2016-06-03', 70.0),\n",
       " ('2016-06-04', 68.0),\n",
       " ('2016-06-05', 70.0),\n",
       " ('2016-06-06', 74.0),\n",
       " ('2016-06-07', 75.0),\n",
       " ('2016-06-08', 74.0),\n",
       " ('2016-06-09', 71.0),\n",
       " ('2016-06-10', 73.0),\n",
       " ('2016-06-11', 75.0),\n",
       " ('2016-06-12', 74.0),\n",
       " ('2016-06-13', 76.0),\n",
       " ('2016-06-14', 76.0),\n",
       " ('2016-06-15', 76.0),\n",
       " ('2016-06-16', 76.0),\n",
       " ('2016-06-17', 75.0),\n",
       " ('2016-06-18', 75.0),\n",
       " ('2016-06-19', 75.0),\n",
       " ('2016-06-20', 74.0),\n",
       " ('2016-06-21', 73.0),\n",
       " ('2016-06-22', 76.0),\n",
       " ('2016-06-23', 74.0),\n",
       " ('2016-06-24', 78.0),\n",
       " ('2016-06-25', 71.0),\n",
       " ('2016-06-26', 75.0),\n",
       " ('2016-06-27', 75.0),\n",
       " ('2016-06-28', 74.0),\n",
       " ('2016-06-29', 77.0),\n",
       " ('2016-06-30', 77.0),\n",
       " ('2016-06-01', 71.0),\n",
       " ('2016-06-02', 74.0),\n",
       " ('2016-06-03', 75.0),\n",
       " ('2016-06-07', 75.0),\n",
       " ('2016-06-08', 74.0),\n",
       " ('2016-06-09', 76.0),\n",
       " ('2016-06-10', 75.0),\n",
       " ('2016-06-11', 77.0),\n",
       " ('2016-06-12', 77.0),\n",
       " ('2016-06-13', 79.0),\n",
       " ('2016-06-14', 79.0),\n",
       " ('2016-06-15', 78.0),\n",
       " ('2016-06-16', 79.0),\n",
       " ('2016-06-17', 73.0),\n",
       " ('2016-06-18', 78.0),\n",
       " ('2016-06-19', 79.0),\n",
       " ('2016-06-20', 80.0),\n",
       " ('2016-06-21', 76.0),\n",
       " ('2016-06-22', 79.0),\n",
       " ('2016-06-23', 79.0),\n",
       " ('2016-06-24', 77.0),\n",
       " ('2016-06-25', 80.0),\n",
       " ('2016-06-26', 79.0),\n",
       " ('2016-06-27', 78.0),\n",
       " ('2016-06-28', 78.0),\n",
       " ('2016-06-29', 79.0),\n",
       " ('2016-06-30', 78.0),\n",
       " ('2016-06-01', 64.0),\n",
       " ('2016-06-02', 65.0),\n",
       " ('2016-06-03', 75.0),\n",
       " ('2016-06-06', 76.0),\n",
       " ('2016-06-07', 78.0),\n",
       " ('2016-06-08', 77.0),\n",
       " ('2016-06-09', 75.0),\n",
       " ('2016-06-13', 78.0),\n",
       " ('2016-06-14', 81.0),\n",
       " ('2016-06-15', 78.0),\n",
       " ('2016-06-16', 76.0),\n",
       " ('2016-06-17', 73.0),\n",
       " ('2016-06-20', 74.0),\n",
       " ('2016-06-21', 76.0),\n",
       " ('2016-06-22', 78.0),\n",
       " ('2016-06-23', 79.0),\n",
       " ('2016-06-24', 78.0),\n",
       " ('2016-06-27', 72.0),\n",
       " ('2016-06-28', 78.0),\n",
       " ('2016-06-29', 80.0),\n",
       " ('2016-06-30', 81.0),\n",
       " ('2016-06-01', 75.0),\n",
       " ('2016-06-02', 75.0),\n",
       " ('2016-06-03', 75.0),\n",
       " ('2016-06-04', 75.0),\n",
       " ('2016-06-05', 73.0),\n",
       " ('2016-06-06', 78.0),\n",
       " ('2016-06-07', 77.0),\n",
       " ('2016-06-08', 80.0),\n",
       " ('2016-06-09', 72.0),\n",
       " ('2016-06-10', 78.0),\n",
       " ('2016-06-11', 78.0),\n",
       " ('2016-06-12', 77.0),\n",
       " ('2016-06-13', 78.0),\n",
       " ('2016-06-14', 79.0),\n",
       " ('2016-06-15', 80.0),\n",
       " ('2016-06-17', 76.0),\n",
       " ('2016-06-18', 77.0),\n",
       " ('2016-06-19', 79.0),\n",
       " ('2016-06-20', 79.0),\n",
       " ('2016-06-21', 77.0),\n",
       " ('2016-06-22', 79.0),\n",
       " ('2016-06-23', 80.0),\n",
       " ('2016-06-24', 80.0),\n",
       " ('2016-06-25', 77.0),\n",
       " ('2016-06-26', 79.0),\n",
       " ('2016-06-27', 81.0),\n",
       " ('2016-06-28', 78.0),\n",
       " ('2016-06-29', 80.0),\n",
       " ('2016-06-30', 79.0),\n",
       " ('2016-06-01', 69.0),\n",
       " ('2016-06-02', 67.0),\n",
       " ('2016-06-03', 68.0),\n",
       " ('2016-06-04', 65.0),\n",
       " ('2016-06-05', 70.0),\n",
       " ('2016-06-06', 72.0),\n",
       " ('2016-06-07', 74.0),\n",
       " ('2016-06-08', 73.0),\n",
       " ('2016-06-09', 71.0),\n",
       " ('2016-06-10', 75.0),\n",
       " ('2016-06-11', 72.0),\n",
       " ('2016-06-12', 75.0),\n",
       " ('2016-06-13', 76.0),\n",
       " ('2016-06-14', 75.0),\n",
       " ('2016-06-15', 76.0),\n",
       " ('2016-06-16', 75.0),\n",
       " ('2016-06-17', 71.0),\n",
       " ('2016-06-18', 75.0),\n",
       " ('2016-06-19', 75.0),\n",
       " ('2016-06-20', 72.0),\n",
       " ('2016-06-21', 72.0),\n",
       " ('2016-06-22', 75.0),\n",
       " ('2016-06-23', 73.0),\n",
       " ('2016-06-24', 76.0),\n",
       " ('2016-06-25', 74.0),\n",
       " ('2016-06-26', 77.0),\n",
       " ('2016-06-27', 72.0),\n",
       " ('2016-06-28', 71.0),\n",
       " ('2016-06-29', 76.0),\n",
       " ('2016-06-30', 77.0),\n",
       " ('2016-06-01', 70.0),\n",
       " ('2016-06-02', 71.0),\n",
       " ('2016-06-03', 70.0),\n",
       " ('2016-06-05', 73.0),\n",
       " ('2016-06-06', 72.0),\n",
       " ('2016-06-07', 71.0),\n",
       " ('2016-06-08', 71.0),\n",
       " ('2016-06-09', 69.0),\n",
       " ('2016-06-10', 70.0),\n",
       " ('2016-06-11', 73.0),\n",
       " ('2016-06-12', 75.0),\n",
       " ('2016-06-13', 73.0),\n",
       " ('2016-06-14', 72.0),\n",
       " ('2016-06-15', 70.0),\n",
       " ('2016-06-16', 70.0),\n",
       " ('2016-06-17', 69.0),\n",
       " ('2016-06-18', 73.0),\n",
       " ('2016-06-19', 74.0),\n",
       " ('2016-06-20', 72.0),\n",
       " ('2016-06-21', 71.0),\n",
       " ('2016-06-22', 73.0),\n",
       " ('2016-06-23', 72.0),\n",
       " ('2016-06-25', 73.0),\n",
       " ('2016-06-26', 74.0),\n",
       " ('2016-06-27', 72.0),\n",
       " ('2016-06-28', 74.0),\n",
       " ('2016-06-29', 72.0)]"
      ]
     },
     "execution_count": 119,
     "metadata": {},
     "output_type": "execute_result"
    }
   ],
   "source": [
    "june_temp_results\n"
   ]
  },
  {
   "cell_type": "code",
   "execution_count": 121,
   "metadata": {},
   "outputs": [],
   "source": [
    "# 4. Create a DataFrame from the list of temperatures for the month of June. \n",
    "june_temp_df = pd.DataFrame(june_temp_results, columns=['date','temperatures'])"
   ]
  },
  {
   "cell_type": "code",
   "execution_count": 124,
   "metadata": {},
   "outputs": [
    {
     "data": {
      "text/html": [
       "<div>\n",
       "<style scoped>\n",
       "    .dataframe tbody tr th:only-of-type {\n",
       "        vertical-align: middle;\n",
       "    }\n",
       "\n",
       "    .dataframe tbody tr th {\n",
       "        vertical-align: top;\n",
       "    }\n",
       "\n",
       "    .dataframe thead th {\n",
       "        text-align: right;\n",
       "    }\n",
       "</style>\n",
       "<table border=\"1\" class=\"dataframe\">\n",
       "  <thead>\n",
       "    <tr style=\"text-align: right;\">\n",
       "      <th></th>\n",
       "      <th>temperatures</th>\n",
       "    </tr>\n",
       "  </thead>\n",
       "  <tbody>\n",
       "    <tr>\n",
       "      <th>count</th>\n",
       "      <td>194.000000</td>\n",
       "    </tr>\n",
       "    <tr>\n",
       "      <th>mean</th>\n",
       "      <td>75.175258</td>\n",
       "    </tr>\n",
       "    <tr>\n",
       "      <th>std</th>\n",
       "      <td>3.421996</td>\n",
       "    </tr>\n",
       "    <tr>\n",
       "      <th>min</th>\n",
       "      <td>64.000000</td>\n",
       "    </tr>\n",
       "    <tr>\n",
       "      <th>25%</th>\n",
       "      <td>73.000000</td>\n",
       "    </tr>\n",
       "    <tr>\n",
       "      <th>50%</th>\n",
       "      <td>75.500000</td>\n",
       "    </tr>\n",
       "    <tr>\n",
       "      <th>75%</th>\n",
       "      <td>78.000000</td>\n",
       "    </tr>\n",
       "    <tr>\n",
       "      <th>max</th>\n",
       "      <td>81.000000</td>\n",
       "    </tr>\n",
       "  </tbody>\n",
       "</table>\n",
       "</div>"
      ],
      "text/plain": [
       "       temperatures\n",
       "count    194.000000\n",
       "mean      75.175258\n",
       "std        3.421996\n",
       "min       64.000000\n",
       "25%       73.000000\n",
       "50%       75.500000\n",
       "75%       78.000000\n",
       "max       81.000000"
      ]
     },
     "execution_count": 124,
     "metadata": {},
     "output_type": "execute_result"
    }
   ],
   "source": [
    "june_temp_df.describe()"
   ]
  },
  {
   "cell_type": "code",
   "execution_count": 7,
   "metadata": {},
   "outputs": [],
   "source": [
    "# 5. Calculate and print out the summary statistics for the June temperature DataFrame.\n"
   ]
  },
  {
   "cell_type": "markdown",
   "metadata": {},
   "source": [
    "## D2: Determine the Summary Statistics for December"
   ]
  },
  {
   "cell_type": "code",
   "execution_count": 8,
   "metadata": {},
   "outputs": [],
   "source": [
    "# 6. Write a query that filters the Measurement table to retrieve the temperatures for the month of December.\n"
   ]
  },
  {
   "cell_type": "code",
   "execution_count": 9,
   "metadata": {},
   "outputs": [],
   "source": [
    "# 7. Convert the December temperatures to a list.\n"
   ]
  },
  {
   "cell_type": "code",
   "execution_count": 10,
   "metadata": {},
   "outputs": [],
   "source": [
    "# 8. Create a DataFrame from the list of temperatures for the month of December. \n"
   ]
  },
  {
   "cell_type": "code",
   "execution_count": 11,
   "metadata": {},
   "outputs": [],
   "source": [
    "# 9. Calculate and print out the summary statistics for the Decemeber temperature DataFrame.\n"
   ]
  }
 ],
 "metadata": {
  "kernelspec": {
   "display_name": "PythonData",
   "language": "python",
   "name": "pythondata"
  },
  "language_info": {
   "codemirror_mode": {
    "name": "ipython",
    "version": 3
   },
   "file_extension": ".py",
   "mimetype": "text/x-python",
   "name": "python",
   "nbconvert_exporter": "python",
   "pygments_lexer": "ipython3",
   "version": "3.8.8"
  }
 },
 "nbformat": 4,
 "nbformat_minor": 2
}
